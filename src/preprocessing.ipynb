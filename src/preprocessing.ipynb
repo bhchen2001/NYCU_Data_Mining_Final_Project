{
 "cells": [
  {
   "cell_type": "code",
   "execution_count": 1,
   "metadata": {},
   "outputs": [],
   "source": [
    "import pandas as pd\n",
    "import numpy as np"
   ]
  },
  {
   "cell_type": "code",
   "execution_count": 2,
   "metadata": {},
   "outputs": [],
   "source": [
    "# read csv file\n",
    "df = pd.read_csv('../dataset/validate_data.csv')\n",
    "df = df['User_id'].unique()\n",
    "df = pd.DataFrame(df)\n",
    "df.columns = ['User_id']\n",
    "df.to_csv('../dataset/validate_user_id.csv', index=False)"
   ]
  },
  {
   "cell_type": "code",
   "execution_count": 13,
   "metadata": {},
   "outputs": [
    {
     "name": "stdout",
     "output_type": "stream",
     "text": [
      "Index(['Id', 'Title', 'Price', 'User_id', 'profileName', 'review/helpfulness',\n",
      "       'review/score', 'review/time', 'review/summary', 'review/text',\n",
      "       'description', 'authors', 'publisher', 'publishedDate', 'categories',\n",
      "       'ratingsCount', 'bert_score'],\n",
      "      dtype='object')\n",
      "(180240, 17)\n"
     ]
    }
   ],
   "source": [
    "# read csv file\n",
    "df = pd.read_csv('../dataset/validate_user_with_bert_re.csv')\n",
    "print(df.columns)\n",
    "print(df.shape)"
   ]
  },
  {
   "cell_type": "code",
   "execution_count": 14,
   "metadata": {},
   "outputs": [],
   "source": [
    "# drop columns\n",
    "df = df.drop(['review/summary', 'review/text', 'description'], axis=1)"
   ]
  },
  {
   "cell_type": "code",
   "execution_count": 15,
   "metadata": {},
   "outputs": [
    {
     "data": {
      "text/html": [
       "<div>\n",
       "<style scoped>\n",
       "    .dataframe tbody tr th:only-of-type {\n",
       "        vertical-align: middle;\n",
       "    }\n",
       "\n",
       "    .dataframe tbody tr th {\n",
       "        vertical-align: top;\n",
       "    }\n",
       "\n",
       "    .dataframe thead th {\n",
       "        text-align: right;\n",
       "    }\n",
       "</style>\n",
       "<table border=\"1\" class=\"dataframe\">\n",
       "  <thead>\n",
       "    <tr style=\"text-align: right;\">\n",
       "      <th></th>\n",
       "      <th>Id</th>\n",
       "      <th>Title</th>\n",
       "      <th>Price</th>\n",
       "      <th>User_id</th>\n",
       "      <th>profileName</th>\n",
       "      <th>review/helpfulness</th>\n",
       "      <th>review/score</th>\n",
       "      <th>review/time</th>\n",
       "      <th>authors</th>\n",
       "      <th>publisher</th>\n",
       "      <th>publishedDate</th>\n",
       "      <th>categories</th>\n",
       "      <th>ratingsCount</th>\n",
       "      <th>bert_score</th>\n",
       "    </tr>\n",
       "  </thead>\n",
       "  <tbody>\n",
       "    <tr>\n",
       "      <th>0</th>\n",
       "      <td>0826414346</td>\n",
       "      <td>Dr. Seuss: American Icon</td>\n",
       "      <td>NaN</td>\n",
       "      <td>A30TK6U7DNS82R</td>\n",
       "      <td>Kevin Killian</td>\n",
       "      <td>10/10</td>\n",
       "      <td>5.0</td>\n",
       "      <td>1095724800</td>\n",
       "      <td>['Philip Nel']</td>\n",
       "      <td>A&amp;C Black</td>\n",
       "      <td>2005-01-01</td>\n",
       "      <td>['Biography &amp; Autobiography']</td>\n",
       "      <td>NaN</td>\n",
       "      <td>5</td>\n",
       "    </tr>\n",
       "    <tr>\n",
       "      <th>1</th>\n",
       "      <td>0826414346</td>\n",
       "      <td>Dr. Seuss: American Icon</td>\n",
       "      <td>NaN</td>\n",
       "      <td>A14OJS0VWMOSWO</td>\n",
       "      <td>Midwest Book Review</td>\n",
       "      <td>3/4</td>\n",
       "      <td>5.0</td>\n",
       "      <td>1100131200</td>\n",
       "      <td>['Philip Nel']</td>\n",
       "      <td>A&amp;C Black</td>\n",
       "      <td>2005-01-01</td>\n",
       "      <td>['Biography &amp; Autobiography']</td>\n",
       "      <td>NaN</td>\n",
       "      <td>5</td>\n",
       "    </tr>\n",
       "    <tr>\n",
       "      <th>2</th>\n",
       "      <td>0963923080</td>\n",
       "      <td>Rising Sons and Daughters: Life Among Japan's ...</td>\n",
       "      <td>NaN</td>\n",
       "      <td>A3NIQK6ZLYEP1L</td>\n",
       "      <td>Michael Valdivielso</td>\n",
       "      <td>0/0</td>\n",
       "      <td>4.0</td>\n",
       "      <td>1239667200</td>\n",
       "      <td>['Steven Wardell']</td>\n",
       "      <td>Plympton PressIntl</td>\n",
       "      <td>1995</td>\n",
       "      <td>['Social Science']</td>\n",
       "      <td>NaN</td>\n",
       "      <td>4</td>\n",
       "    </tr>\n",
       "  </tbody>\n",
       "</table>\n",
       "</div>"
      ],
      "text/plain": [
       "           Id                                              Title  Price  \\\n",
       "0  0826414346                           Dr. Seuss: American Icon    NaN   \n",
       "1  0826414346                           Dr. Seuss: American Icon    NaN   \n",
       "2  0963923080  Rising Sons and Daughters: Life Among Japan's ...    NaN   \n",
       "\n",
       "          User_id          profileName review/helpfulness  review/score  \\\n",
       "0  A30TK6U7DNS82R        Kevin Killian              10/10           5.0   \n",
       "1  A14OJS0VWMOSWO  Midwest Book Review                3/4           5.0   \n",
       "2  A3NIQK6ZLYEP1L  Michael Valdivielso                0/0           4.0   \n",
       "\n",
       "   review/time             authors           publisher publishedDate  \\\n",
       "0   1095724800      ['Philip Nel']           A&C Black    2005-01-01   \n",
       "1   1100131200      ['Philip Nel']           A&C Black    2005-01-01   \n",
       "2   1239667200  ['Steven Wardell']  Plympton PressIntl          1995   \n",
       "\n",
       "                      categories  ratingsCount  bert_score  \n",
       "0  ['Biography & Autobiography']           NaN           5  \n",
       "1  ['Biography & Autobiography']           NaN           5  \n",
       "2             ['Social Science']           NaN           4  "
      ]
     },
     "execution_count": 15,
     "metadata": {},
     "output_type": "execute_result"
    }
   ],
   "source": [
    "df.head(3)"
   ]
  },
  {
   "cell_type": "code",
   "execution_count": 16,
   "metadata": {},
   "outputs": [
    {
     "data": {
      "text/html": [
       "<div>\n",
       "<style scoped>\n",
       "    .dataframe tbody tr th:only-of-type {\n",
       "        vertical-align: middle;\n",
       "    }\n",
       "\n",
       "    .dataframe tbody tr th {\n",
       "        vertical-align: top;\n",
       "    }\n",
       "\n",
       "    .dataframe thead th {\n",
       "        text-align: right;\n",
       "    }\n",
       "</style>\n",
       "<table border=\"1\" class=\"dataframe\">\n",
       "  <thead>\n",
       "    <tr style=\"text-align: right;\">\n",
       "      <th></th>\n",
       "      <th>Price</th>\n",
       "      <th>review/score</th>\n",
       "      <th>review/time</th>\n",
       "      <th>ratingsCount</th>\n",
       "      <th>bert_score</th>\n",
       "    </tr>\n",
       "  </thead>\n",
       "  <tbody>\n",
       "    <tr>\n",
       "      <th>count</th>\n",
       "      <td>21932.000000</td>\n",
       "      <td>180240.000000</td>\n",
       "      <td>1.802400e+05</td>\n",
       "      <td>129910.000000</td>\n",
       "      <td>180240.000000</td>\n",
       "    </tr>\n",
       "    <tr>\n",
       "      <th>mean</th>\n",
       "      <td>22.912294</td>\n",
       "      <td>4.273935</td>\n",
       "      <td>1.136406e+09</td>\n",
       "      <td>242.684266</td>\n",
       "      <td>4.444729</td>\n",
       "    </tr>\n",
       "    <tr>\n",
       "      <th>std</th>\n",
       "      <td>23.283642</td>\n",
       "      <td>0.953390</td>\n",
       "      <td>1.140325e+08</td>\n",
       "      <td>727.157822</td>\n",
       "      <td>1.034890</td>\n",
       "    </tr>\n",
       "    <tr>\n",
       "      <th>min</th>\n",
       "      <td>1.000000</td>\n",
       "      <td>1.000000</td>\n",
       "      <td>8.402400e+08</td>\n",
       "      <td>1.000000</td>\n",
       "      <td>1.000000</td>\n",
       "    </tr>\n",
       "    <tr>\n",
       "      <th>25%</th>\n",
       "      <td>10.490000</td>\n",
       "      <td>4.000000</td>\n",
       "      <td>1.045094e+09</td>\n",
       "      <td>3.000000</td>\n",
       "      <td>4.000000</td>\n",
       "    </tr>\n",
       "    <tr>\n",
       "      <th>50%</th>\n",
       "      <td>15.950000</td>\n",
       "      <td>5.000000</td>\n",
       "      <td>1.127779e+09</td>\n",
       "      <td>11.000000</td>\n",
       "      <td>5.000000</td>\n",
       "    </tr>\n",
       "    <tr>\n",
       "      <th>75%</th>\n",
       "      <td>26.950000</td>\n",
       "      <td>5.000000</td>\n",
       "      <td>1.224202e+09</td>\n",
       "      <td>46.000000</td>\n",
       "      <td>5.000000</td>\n",
       "    </tr>\n",
       "    <tr>\n",
       "      <th>max</th>\n",
       "      <td>730.000000</td>\n",
       "      <td>5.000000</td>\n",
       "      <td>1.362269e+09</td>\n",
       "      <td>4895.000000</td>\n",
       "      <td>5.000000</td>\n",
       "    </tr>\n",
       "  </tbody>\n",
       "</table>\n",
       "</div>"
      ],
      "text/plain": [
       "              Price   review/score   review/time   ratingsCount     bert_score\n",
       "count  21932.000000  180240.000000  1.802400e+05  129910.000000  180240.000000\n",
       "mean      22.912294       4.273935  1.136406e+09     242.684266       4.444729\n",
       "std       23.283642       0.953390  1.140325e+08     727.157822       1.034890\n",
       "min        1.000000       1.000000  8.402400e+08       1.000000       1.000000\n",
       "25%       10.490000       4.000000  1.045094e+09       3.000000       4.000000\n",
       "50%       15.950000       5.000000  1.127779e+09      11.000000       5.000000\n",
       "75%       26.950000       5.000000  1.224202e+09      46.000000       5.000000\n",
       "max      730.000000       5.000000  1.362269e+09    4895.000000       5.000000"
      ]
     },
     "execution_count": 16,
     "metadata": {},
     "output_type": "execute_result"
    }
   ],
   "source": [
    "df.describe()"
   ]
  },
  {
   "cell_type": "code",
   "execution_count": 17,
   "metadata": {},
   "outputs": [
    {
     "data": {
      "text/plain": [
       "Id                         0\n",
       "Title                      0\n",
       "Price                 158308\n",
       "User_id                    0\n",
       "profileName                0\n",
       "review/helpfulness         0\n",
       "review/score               0\n",
       "review/time                0\n",
       "authors                  601\n",
       "publisher               5196\n",
       "publishedDate            130\n",
       "categories                 0\n",
       "ratingsCount           50330\n",
       "bert_score                 0\n",
       "dtype: int64"
      ]
     },
     "execution_count": 17,
     "metadata": {},
     "output_type": "execute_result"
    }
   ],
   "source": [
    "# sum the null values\n",
    "df.isnull().sum()"
   ]
  },
  {
   "cell_type": "code",
   "execution_count": 10,
   "metadata": {},
   "outputs": [],
   "source": [
    "# write the file to csv\n",
    "df.to_csv('../dataset/validate_data_with_bert.csv', index=False)"
   ]
  }
 ],
 "metadata": {
  "kernelspec": {
   "display_name": "Python 3",
   "language": "python",
   "name": "python3"
  },
  "language_info": {
   "codemirror_mode": {
    "name": "ipython",
    "version": 3
   },
   "file_extension": ".py",
   "mimetype": "text/x-python",
   "name": "python",
   "nbconvert_exporter": "python",
   "pygments_lexer": "ipython3",
   "version": "3.12.0"
  }
 },
 "nbformat": 4,
 "nbformat_minor": 2
}
