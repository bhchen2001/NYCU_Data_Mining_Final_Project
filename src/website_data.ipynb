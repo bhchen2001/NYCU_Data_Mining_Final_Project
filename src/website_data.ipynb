{
 "cells": [
  {
   "cell_type": "code",
   "execution_count": 1,
   "metadata": {},
   "outputs": [],
   "source": [
    "import pandas as pd\n",
    "import numpy as np"
   ]
  },
  {
   "cell_type": "code",
   "execution_count": 2,
   "metadata": {},
   "outputs": [],
   "source": [
    "# read the data\n",
    "df = pd.read_csv('../dataset/validate_data_with_bert.csv')"
   ]
  },
  {
   "cell_type": "code",
   "execution_count": 3,
   "metadata": {},
   "outputs": [],
   "source": [
    "df['Title'] = df['Title'].str.lower()"
   ]
  },
  {
   "cell_type": "code",
   "execution_count": 4,
   "metadata": {},
   "outputs": [],
   "source": [
    "df['publishedDate'] = df['publishedDate'].str.split('-').str[0]\n",
    "# fill the missing value with the most frequent year\n",
    "df['publishedDate'] = df['publishedDate'].fillna(df['publishedDate'].value_counts().index[0])\n",
    "# handle the year with ?, replace with the most frequent year of that century (19xx)\n",
    "df.loc[df['publishedDate'].str.find(\"?\") != -1, 'publishedDate'] = df.loc[df['publishedDate'].str[:2] == '19', 'publishedDate'].value_counts().index[0]\n",
    "# remove the * sign in the publishedDate\n",
    "df['publishedDate'] = df['publishedDate'].str.replace('*', '')\n",
    "df['publishedDate'] = df['publishedDate'].astype(int)"
   ]
  },
  {
   "cell_type": "code",
   "execution_count": 5,
   "metadata": {},
   "outputs": [],
   "source": [
    "df['categories'] = df['categories'].str.replace('[', '').str.replace(']', '').str.replace(\"'\", '')"
   ]
  },
  {
   "cell_type": "code",
   "execution_count": 6,
   "metadata": {},
   "outputs": [],
   "source": [
    "# get id, title, category, and publishDate for each book\n",
    "df = df[['Id', 'Title', 'categories', 'publishedDate']]\n",
    "df = df.drop_duplicates(subset=['Title'])\n",
    "df = df.reset_index(drop=True)"
   ]
  },
  {
   "cell_type": "code",
   "execution_count": 7,
   "metadata": {},
   "outputs": [
    {
     "data": {
      "text/html": [
       "<div>\n",
       "<style scoped>\n",
       "    .dataframe tbody tr th:only-of-type {\n",
       "        vertical-align: middle;\n",
       "    }\n",
       "\n",
       "    .dataframe tbody tr th {\n",
       "        vertical-align: top;\n",
       "    }\n",
       "\n",
       "    .dataframe thead th {\n",
       "        text-align: right;\n",
       "    }\n",
       "</style>\n",
       "<table border=\"1\" class=\"dataframe\">\n",
       "  <thead>\n",
       "    <tr style=\"text-align: right;\">\n",
       "      <th></th>\n",
       "      <th>Id</th>\n",
       "      <th>Title</th>\n",
       "      <th>categories</th>\n",
       "      <th>publishedDate</th>\n",
       "    </tr>\n",
       "  </thead>\n",
       "  <tbody>\n",
       "    <tr>\n",
       "      <th>0</th>\n",
       "      <td>0826414346</td>\n",
       "      <td>dr. seuss: american icon</td>\n",
       "      <td>Biography &amp; Autobiography</td>\n",
       "      <td>2005</td>\n",
       "    </tr>\n",
       "    <tr>\n",
       "      <th>1</th>\n",
       "      <td>0963923080</td>\n",
       "      <td>rising sons and daughters: life among japan's ...</td>\n",
       "      <td>Social Science</td>\n",
       "      <td>1995</td>\n",
       "    </tr>\n",
       "    <tr>\n",
       "      <th>2</th>\n",
       "      <td>0854968350</td>\n",
       "      <td>muslim women's choices: religious belief and s...</td>\n",
       "      <td>Religion</td>\n",
       "      <td>1994</td>\n",
       "    </tr>\n",
       "    <tr>\n",
       "      <th>3</th>\n",
       "      <td>157067051X</td>\n",
       "      <td>voices from the farm: adventures in community ...</td>\n",
       "      <td>Biography &amp; Autobiography</td>\n",
       "      <td>2012</td>\n",
       "    </tr>\n",
       "    <tr>\n",
       "      <th>4</th>\n",
       "      <td>006000486X</td>\n",
       "      <td>tess and the highlander</td>\n",
       "      <td>Juvenile Fiction</td>\n",
       "      <td>2002</td>\n",
       "    </tr>\n",
       "    <tr>\n",
       "      <th>...</th>\n",
       "      <td>...</td>\n",
       "      <td>...</td>\n",
       "      <td>...</td>\n",
       "      <td>...</td>\n",
       "    </tr>\n",
       "    <tr>\n",
       "      <th>26340</th>\n",
       "      <td>0316940089</td>\n",
       "      <td>sweep dreams</td>\n",
       "      <td>Juvenile Fiction</td>\n",
       "      <td>2005</td>\n",
       "    </tr>\n",
       "    <tr>\n",
       "      <th>26341</th>\n",
       "      <td>1560540990</td>\n",
       "      <td>killing mister watson</td>\n",
       "      <td>Fiction</td>\n",
       "      <td>2012</td>\n",
       "    </tr>\n",
       "    <tr>\n",
       "      <th>26342</th>\n",
       "      <td>0425200736</td>\n",
       "      <td>echoes (berkley sensation)</td>\n",
       "      <td>Fiction</td>\n",
       "      <td>2012</td>\n",
       "    </tr>\n",
       "    <tr>\n",
       "      <th>26343</th>\n",
       "      <td>0786182431</td>\n",
       "      <td>very bad deaths: library edition</td>\n",
       "      <td>Social Science</td>\n",
       "      <td>2021</td>\n",
       "    </tr>\n",
       "    <tr>\n",
       "      <th>26344</th>\n",
       "      <td>B000NSLVCU</td>\n",
       "      <td>the idea of history</td>\n",
       "      <td>History</td>\n",
       "      <td>2018</td>\n",
       "    </tr>\n",
       "  </tbody>\n",
       "</table>\n",
       "<p>26345 rows × 4 columns</p>\n",
       "</div>"
      ],
      "text/plain": [
       "               Id                                              Title  \\\n",
       "0      0826414346                           dr. seuss: american icon   \n",
       "1      0963923080  rising sons and daughters: life among japan's ...   \n",
       "2      0854968350  muslim women's choices: religious belief and s...   \n",
       "3      157067051X  voices from the farm: adventures in community ...   \n",
       "4      006000486X                            tess and the highlander   \n",
       "...           ...                                                ...   \n",
       "26340  0316940089                                       sweep dreams   \n",
       "26341  1560540990                              killing mister watson   \n",
       "26342  0425200736                         echoes (berkley sensation)   \n",
       "26343  0786182431                   very bad deaths: library edition   \n",
       "26344  B000NSLVCU                                the idea of history   \n",
       "\n",
       "                      categories  publishedDate  \n",
       "0      Biography & Autobiography           2005  \n",
       "1                 Social Science           1995  \n",
       "2                       Religion           1994  \n",
       "3      Biography & Autobiography           2012  \n",
       "4               Juvenile Fiction           2002  \n",
       "...                          ...            ...  \n",
       "26340           Juvenile Fiction           2005  \n",
       "26341                    Fiction           2012  \n",
       "26342                    Fiction           2012  \n",
       "26343             Social Science           2021  \n",
       "26344                    History           2018  \n",
       "\n",
       "[26345 rows x 4 columns]"
      ]
     },
     "execution_count": 7,
     "metadata": {},
     "output_type": "execute_result"
    }
   ],
   "source": [
    "df"
   ]
  },
  {
   "cell_type": "code",
   "execution_count": 8,
   "metadata": {},
   "outputs": [],
   "source": [
    "df.to_csv('../dataset/book_info.csv', index=False)"
   ]
  }
 ],
 "metadata": {
  "kernelspec": {
   "display_name": "Python 3",
   "language": "python",
   "name": "python3"
  },
  "language_info": {
   "codemirror_mode": {
    "name": "ipython",
    "version": 3
   },
   "file_extension": ".py",
   "mimetype": "text/x-python",
   "name": "python",
   "nbconvert_exporter": "python",
   "pygments_lexer": "ipython3",
   "version": "3.12.0"
  }
 },
 "nbformat": 4,
 "nbformat_minor": 2
}
